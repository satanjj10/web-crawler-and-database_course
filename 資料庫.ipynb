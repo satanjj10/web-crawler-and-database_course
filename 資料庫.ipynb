{
  "nbformat": 4,
  "nbformat_minor": 0,
  "metadata": {
    "colab": {
      "name": "資料庫.ipynb",
      "provenance": [],
      "collapsed_sections": [],
      "authorship_tag": "ABX9TyNRD4ntmVFV1AxHH14nyL50",
      "include_colab_link": true
    },
    "kernelspec": {
      "name": "python3",
      "display_name": "Python 3"
    },
    "language_info": {
      "name": "python"
    }
  },
  "cells": [
    {
      "cell_type": "markdown",
      "metadata": {
        "id": "view-in-github",
        "colab_type": "text"
      },
      "source": [
        "<a href=\"https://colab.research.google.com/github/satanjj10/web-crawler-and-database_course/blob/main/%E8%B3%87%E6%96%99%E5%BA%AB.ipynb\" target=\"_parent\"><img src=\"https://colab.research.google.com/assets/colab-badge.svg\" alt=\"Open In Colab\"/></a>"
      ]
    },
    {
      "cell_type": "code",
      "execution_count": null,
      "metadata": {
        "colab": {
          "base_uri": "https://localhost:8080/"
        },
        "id": "VvlUjj9kYDb7",
        "outputId": "1bae7609-b2dd-4519-a3da-3add2b3266a0"
      },
      "outputs": [
        {
          "output_type": "stream",
          "name": "stdout",
          "text": [
            "Collecting pymysql\n",
            "  Downloading PyMySQL-1.0.2-py3-none-any.whl (43 kB)\n",
            "\u001b[?25l\r\u001b[K     |███████▌                        | 10 kB 22.7 MB/s eta 0:00:01\r\u001b[K     |███████████████                 | 20 kB 26.5 MB/s eta 0:00:01\r\u001b[K     |██████████████████████▍         | 30 kB 19.5 MB/s eta 0:00:01\r\u001b[K     |██████████████████████████████  | 40 kB 16.2 MB/s eta 0:00:01\r\u001b[K     |████████████████████████████████| 43 kB 1.5 MB/s \n",
            "\u001b[?25hInstalling collected packages: pymysql\n",
            "Successfully installed pymysql-1.0.2\n"
          ]
        }
      ],
      "source": [
        "!pip install pymysql"
      ]
    },
    {
      "cell_type": "code",
      "source": [
        "import pymysql\n",
        "\n",
        "link = pymysql.connect(\n",
        "    host = \"0.tcp.jp.ngrok.io\",\n",
        "    user = \"root\",\n",
        "    passwd = \"\",\n",
        "    db = \"ai2022-01\",\n",
        "    charset = \"utf8\",\n",
        "    port = 17064\n",
        ")\n",
        "\n",
        "cur = link.cursor()\n",
        "\n",
        "data = [\"A\" , \"B\" , \"2022-05-19\" , \"C\"]\n",
        "cur.execute(\"INSERT INTO `news`(`title`,`description`,`create_date`,`source`) VALUES(%s,%s,%s,%s)\",data)\n",
        "link.commit()\n",
        "\n",
        "link.close()"
      ],
      "metadata": {
        "id": "kXWT9XP_YcK8"
      },
      "execution_count": null,
      "outputs": []
    },
    {
      "cell_type": "code",
      "source": [
        "import pymysql\n",
        "\n",
        "link = pymysql.connect(\n",
        "    host = \"0.tcp.jp.ngrok.io\",\n",
        "    user = \"root\",\n",
        "    passwd = \"\",\n",
        "    db = \"ai2022-01\",\n",
        "    charset = \"utf8\",\n",
        "    port = 17064\n",
        ")\n",
        "\n",
        "cur = link.cursor()\n",
        "\n",
        "data = {\n",
        "    \"A\" : \"123\",\n",
        "    \"B\" : \"123\",\n",
        "    \"C\" : \"2022-05-19\",\n",
        "    \"D\" : \"123\"\n",
        "}\n",
        "cur.execute(\"INSERT INTO `news`(`title` , `description` , `create_date` , `source`) VALUES(%(A)s,%(B)s,%(C)s,%(D)s)\",data)\n",
        "link.commit()\n",
        "\n",
        "link.close()"
      ],
      "metadata": {
        "id": "cVXHMsf-l3nU",
        "colab": {
          "base_uri": "https://localhost:8080/",
          "height": 347
        },
        "outputId": "e3e48ff1-d6d8-41fb-dc2b-3da094ebc70f"
      },
      "execution_count": null,
      "outputs": [
        {
          "output_type": "error",
          "ename": "OperationalError",
          "evalue": "ignored",
          "traceback": [
            "\u001b[0;31m---------------------------------------------------------------------------\u001b[0m",
            "\u001b[0;31mOperationalError\u001b[0m                          Traceback (most recent call last)",
            "\u001b[0;32m<ipython-input-5-1758375eea87>\u001b[0m in \u001b[0;36m<module>\u001b[0;34m()\u001b[0m\n\u001b[1;32m     18\u001b[0m     \u001b[0;34m\"D\"\u001b[0m \u001b[0;34m:\u001b[0m \u001b[0;34m\"123\"\u001b[0m\u001b[0;34m\u001b[0m\u001b[0;34m\u001b[0m\u001b[0m\n\u001b[1;32m     19\u001b[0m }\n\u001b[0;32m---> 20\u001b[0;31m \u001b[0mcur\u001b[0m\u001b[0;34m.\u001b[0m\u001b[0mexecute\u001b[0m\u001b[0;34m(\u001b[0m\u001b[0;34m\"INSERT INTO `news`(`title` , `description` , `create_date` , `source`) VALUES(%(A)s,%(B)s,%(C)s,%(D)s)\"\u001b[0m\u001b[0;34m,\u001b[0m\u001b[0mdata\u001b[0m\u001b[0;34m)\u001b[0m\u001b[0;34m\u001b[0m\u001b[0;34m\u001b[0m\u001b[0m\n\u001b[0m\u001b[1;32m     21\u001b[0m \u001b[0mlink\u001b[0m\u001b[0;34m.\u001b[0m\u001b[0mcommit\u001b[0m\u001b[0;34m(\u001b[0m\u001b[0;34m)\u001b[0m\u001b[0;34m\u001b[0m\u001b[0;34m\u001b[0m\u001b[0m\n\u001b[1;32m     22\u001b[0m \u001b[0;34m\u001b[0m\u001b[0m\n",
            "\u001b[0;32m/usr/local/lib/python3.7/dist-packages/pymysql/cursors.py\u001b[0m in \u001b[0;36mexecute\u001b[0;34m(self, query, args)\u001b[0m\n\u001b[1;32m    146\u001b[0m         \u001b[0mquery\u001b[0m \u001b[0;34m=\u001b[0m \u001b[0mself\u001b[0m\u001b[0;34m.\u001b[0m\u001b[0mmogrify\u001b[0m\u001b[0;34m(\u001b[0m\u001b[0mquery\u001b[0m\u001b[0;34m,\u001b[0m \u001b[0margs\u001b[0m\u001b[0;34m)\u001b[0m\u001b[0;34m\u001b[0m\u001b[0;34m\u001b[0m\u001b[0m\n\u001b[1;32m    147\u001b[0m \u001b[0;34m\u001b[0m\u001b[0m\n\u001b[0;32m--> 148\u001b[0;31m         \u001b[0mresult\u001b[0m \u001b[0;34m=\u001b[0m \u001b[0mself\u001b[0m\u001b[0;34m.\u001b[0m\u001b[0m_query\u001b[0m\u001b[0;34m(\u001b[0m\u001b[0mquery\u001b[0m\u001b[0;34m)\u001b[0m\u001b[0;34m\u001b[0m\u001b[0;34m\u001b[0m\u001b[0m\n\u001b[0m\u001b[1;32m    149\u001b[0m         \u001b[0mself\u001b[0m\u001b[0;34m.\u001b[0m\u001b[0m_executed\u001b[0m \u001b[0;34m=\u001b[0m \u001b[0mquery\u001b[0m\u001b[0;34m\u001b[0m\u001b[0;34m\u001b[0m\u001b[0m\n\u001b[1;32m    150\u001b[0m         \u001b[0;32mreturn\u001b[0m \u001b[0mresult\u001b[0m\u001b[0;34m\u001b[0m\u001b[0;34m\u001b[0m\u001b[0m\n",
            "\u001b[0;32m/usr/local/lib/python3.7/dist-packages/pymysql/cursors.py\u001b[0m in \u001b[0;36m_query\u001b[0;34m(self, q)\u001b[0m\n\u001b[1;32m    308\u001b[0m         \u001b[0mself\u001b[0m\u001b[0;34m.\u001b[0m\u001b[0m_last_executed\u001b[0m \u001b[0;34m=\u001b[0m \u001b[0mq\u001b[0m\u001b[0;34m\u001b[0m\u001b[0;34m\u001b[0m\u001b[0m\n\u001b[1;32m    309\u001b[0m         \u001b[0mself\u001b[0m\u001b[0;34m.\u001b[0m\u001b[0m_clear_result\u001b[0m\u001b[0;34m(\u001b[0m\u001b[0;34m)\u001b[0m\u001b[0;34m\u001b[0m\u001b[0;34m\u001b[0m\u001b[0m\n\u001b[0;32m--> 310\u001b[0;31m         \u001b[0mconn\u001b[0m\u001b[0;34m.\u001b[0m\u001b[0mquery\u001b[0m\u001b[0;34m(\u001b[0m\u001b[0mq\u001b[0m\u001b[0;34m)\u001b[0m\u001b[0;34m\u001b[0m\u001b[0;34m\u001b[0m\u001b[0m\n\u001b[0m\u001b[1;32m    311\u001b[0m         \u001b[0mself\u001b[0m\u001b[0;34m.\u001b[0m\u001b[0m_do_get_result\u001b[0m\u001b[0;34m(\u001b[0m\u001b[0;34m)\u001b[0m\u001b[0;34m\u001b[0m\u001b[0;34m\u001b[0m\u001b[0m\n\u001b[1;32m    312\u001b[0m         \u001b[0;32mreturn\u001b[0m \u001b[0mself\u001b[0m\u001b[0;34m.\u001b[0m\u001b[0mrowcount\u001b[0m\u001b[0;34m\u001b[0m\u001b[0;34m\u001b[0m\u001b[0m\n",
            "\u001b[0;32m/usr/local/lib/python3.7/dist-packages/pymysql/connections.py\u001b[0m in \u001b[0;36mquery\u001b[0;34m(self, sql, unbuffered)\u001b[0m\n\u001b[1;32m    546\u001b[0m             \u001b[0msql\u001b[0m \u001b[0;34m=\u001b[0m \u001b[0msql\u001b[0m\u001b[0;34m.\u001b[0m\u001b[0mencode\u001b[0m\u001b[0;34m(\u001b[0m\u001b[0mself\u001b[0m\u001b[0;34m.\u001b[0m\u001b[0mencoding\u001b[0m\u001b[0;34m,\u001b[0m \u001b[0;34m\"surrogateescape\"\u001b[0m\u001b[0;34m)\u001b[0m\u001b[0;34m\u001b[0m\u001b[0;34m\u001b[0m\u001b[0m\n\u001b[1;32m    547\u001b[0m         \u001b[0mself\u001b[0m\u001b[0;34m.\u001b[0m\u001b[0m_execute_command\u001b[0m\u001b[0;34m(\u001b[0m\u001b[0mCOMMAND\u001b[0m\u001b[0;34m.\u001b[0m\u001b[0mCOM_QUERY\u001b[0m\u001b[0;34m,\u001b[0m \u001b[0msql\u001b[0m\u001b[0;34m)\u001b[0m\u001b[0;34m\u001b[0m\u001b[0;34m\u001b[0m\u001b[0m\n\u001b[0;32m--> 548\u001b[0;31m         \u001b[0mself\u001b[0m\u001b[0;34m.\u001b[0m\u001b[0m_affected_rows\u001b[0m \u001b[0;34m=\u001b[0m \u001b[0mself\u001b[0m\u001b[0;34m.\u001b[0m\u001b[0m_read_query_result\u001b[0m\u001b[0;34m(\u001b[0m\u001b[0munbuffered\u001b[0m\u001b[0;34m=\u001b[0m\u001b[0munbuffered\u001b[0m\u001b[0;34m)\u001b[0m\u001b[0;34m\u001b[0m\u001b[0;34m\u001b[0m\u001b[0m\n\u001b[0m\u001b[1;32m    549\u001b[0m         \u001b[0;32mreturn\u001b[0m \u001b[0mself\u001b[0m\u001b[0;34m.\u001b[0m\u001b[0m_affected_rows\u001b[0m\u001b[0;34m\u001b[0m\u001b[0;34m\u001b[0m\u001b[0m\n\u001b[1;32m    550\u001b[0m \u001b[0;34m\u001b[0m\u001b[0m\n",
            "\u001b[0;32m/usr/local/lib/python3.7/dist-packages/pymysql/connections.py\u001b[0m in \u001b[0;36m_read_query_result\u001b[0;34m(self, unbuffered)\u001b[0m\n\u001b[1;32m    773\u001b[0m         \u001b[0;32melse\u001b[0m\u001b[0;34m:\u001b[0m\u001b[0;34m\u001b[0m\u001b[0;34m\u001b[0m\u001b[0m\n\u001b[1;32m    774\u001b[0m             \u001b[0mresult\u001b[0m \u001b[0;34m=\u001b[0m \u001b[0mMySQLResult\u001b[0m\u001b[0;34m(\u001b[0m\u001b[0mself\u001b[0m\u001b[0;34m)\u001b[0m\u001b[0;34m\u001b[0m\u001b[0;34m\u001b[0m\u001b[0m\n\u001b[0;32m--> 775\u001b[0;31m             \u001b[0mresult\u001b[0m\u001b[0;34m.\u001b[0m\u001b[0mread\u001b[0m\u001b[0;34m(\u001b[0m\u001b[0;34m)\u001b[0m\u001b[0;34m\u001b[0m\u001b[0;34m\u001b[0m\u001b[0m\n\u001b[0m\u001b[1;32m    776\u001b[0m         \u001b[0mself\u001b[0m\u001b[0;34m.\u001b[0m\u001b[0m_result\u001b[0m \u001b[0;34m=\u001b[0m \u001b[0mresult\u001b[0m\u001b[0;34m\u001b[0m\u001b[0;34m\u001b[0m\u001b[0m\n\u001b[1;32m    777\u001b[0m         \u001b[0;32mif\u001b[0m \u001b[0mresult\u001b[0m\u001b[0;34m.\u001b[0m\u001b[0mserver_status\u001b[0m \u001b[0;32mis\u001b[0m \u001b[0;32mnot\u001b[0m \u001b[0;32mNone\u001b[0m\u001b[0;34m:\u001b[0m\u001b[0;34m\u001b[0m\u001b[0;34m\u001b[0m\u001b[0m\n",
            "\u001b[0;32m/usr/local/lib/python3.7/dist-packages/pymysql/connections.py\u001b[0m in \u001b[0;36mread\u001b[0;34m(self)\u001b[0m\n\u001b[1;32m   1154\u001b[0m     \u001b[0;32mdef\u001b[0m \u001b[0mread\u001b[0m\u001b[0;34m(\u001b[0m\u001b[0mself\u001b[0m\u001b[0;34m)\u001b[0m\u001b[0;34m:\u001b[0m\u001b[0;34m\u001b[0m\u001b[0;34m\u001b[0m\u001b[0m\n\u001b[1;32m   1155\u001b[0m         \u001b[0;32mtry\u001b[0m\u001b[0;34m:\u001b[0m\u001b[0;34m\u001b[0m\u001b[0;34m\u001b[0m\u001b[0m\n\u001b[0;32m-> 1156\u001b[0;31m             \u001b[0mfirst_packet\u001b[0m \u001b[0;34m=\u001b[0m \u001b[0mself\u001b[0m\u001b[0;34m.\u001b[0m\u001b[0mconnection\u001b[0m\u001b[0;34m.\u001b[0m\u001b[0m_read_packet\u001b[0m\u001b[0;34m(\u001b[0m\u001b[0;34m)\u001b[0m\u001b[0;34m\u001b[0m\u001b[0;34m\u001b[0m\u001b[0m\n\u001b[0m\u001b[1;32m   1157\u001b[0m \u001b[0;34m\u001b[0m\u001b[0m\n\u001b[1;32m   1158\u001b[0m             \u001b[0;32mif\u001b[0m \u001b[0mfirst_packet\u001b[0m\u001b[0;34m.\u001b[0m\u001b[0mis_ok_packet\u001b[0m\u001b[0;34m(\u001b[0m\u001b[0;34m)\u001b[0m\u001b[0;34m:\u001b[0m\u001b[0;34m\u001b[0m\u001b[0;34m\u001b[0m\u001b[0m\n",
            "\u001b[0;32m/usr/local/lib/python3.7/dist-packages/pymysql/connections.py\u001b[0m in \u001b[0;36m_read_packet\u001b[0;34m(self, packet_type)\u001b[0m\n\u001b[1;32m    723\u001b[0m             \u001b[0;32mif\u001b[0m \u001b[0mself\u001b[0m\u001b[0;34m.\u001b[0m\u001b[0m_result\u001b[0m \u001b[0;32mis\u001b[0m \u001b[0;32mnot\u001b[0m \u001b[0;32mNone\u001b[0m \u001b[0;32mand\u001b[0m \u001b[0mself\u001b[0m\u001b[0;34m.\u001b[0m\u001b[0m_result\u001b[0m\u001b[0;34m.\u001b[0m\u001b[0munbuffered_active\u001b[0m \u001b[0;32mis\u001b[0m \u001b[0;32mTrue\u001b[0m\u001b[0;34m:\u001b[0m\u001b[0;34m\u001b[0m\u001b[0;34m\u001b[0m\u001b[0m\n\u001b[1;32m    724\u001b[0m                 \u001b[0mself\u001b[0m\u001b[0;34m.\u001b[0m\u001b[0m_result\u001b[0m\u001b[0;34m.\u001b[0m\u001b[0munbuffered_active\u001b[0m \u001b[0;34m=\u001b[0m \u001b[0;32mFalse\u001b[0m\u001b[0;34m\u001b[0m\u001b[0;34m\u001b[0m\u001b[0m\n\u001b[0;32m--> 725\u001b[0;31m             \u001b[0mpacket\u001b[0m\u001b[0;34m.\u001b[0m\u001b[0mraise_for_error\u001b[0m\u001b[0;34m(\u001b[0m\u001b[0;34m)\u001b[0m\u001b[0;34m\u001b[0m\u001b[0;34m\u001b[0m\u001b[0m\n\u001b[0m\u001b[1;32m    726\u001b[0m         \u001b[0;32mreturn\u001b[0m \u001b[0mpacket\u001b[0m\u001b[0;34m\u001b[0m\u001b[0;34m\u001b[0m\u001b[0m\n\u001b[1;32m    727\u001b[0m \u001b[0;34m\u001b[0m\u001b[0m\n",
            "\u001b[0;32m/usr/local/lib/python3.7/dist-packages/pymysql/protocol.py\u001b[0m in \u001b[0;36mraise_for_error\u001b[0;34m(self)\u001b[0m\n\u001b[1;32m    219\u001b[0m         \u001b[0;32mif\u001b[0m \u001b[0mDEBUG\u001b[0m\u001b[0;34m:\u001b[0m\u001b[0;34m\u001b[0m\u001b[0;34m\u001b[0m\u001b[0m\n\u001b[1;32m    220\u001b[0m             \u001b[0mprint\u001b[0m\u001b[0;34m(\u001b[0m\u001b[0;34m\"errno =\"\u001b[0m\u001b[0;34m,\u001b[0m \u001b[0merrno\u001b[0m\u001b[0;34m)\u001b[0m\u001b[0;34m\u001b[0m\u001b[0;34m\u001b[0m\u001b[0m\n\u001b[0;32m--> 221\u001b[0;31m         \u001b[0merr\u001b[0m\u001b[0;34m.\u001b[0m\u001b[0mraise_mysql_exception\u001b[0m\u001b[0;34m(\u001b[0m\u001b[0mself\u001b[0m\u001b[0;34m.\u001b[0m\u001b[0m_data\u001b[0m\u001b[0;34m)\u001b[0m\u001b[0;34m\u001b[0m\u001b[0;34m\u001b[0m\u001b[0m\n\u001b[0m\u001b[1;32m    222\u001b[0m \u001b[0;34m\u001b[0m\u001b[0m\n\u001b[1;32m    223\u001b[0m     \u001b[0;32mdef\u001b[0m \u001b[0mdump\u001b[0m\u001b[0;34m(\u001b[0m\u001b[0mself\u001b[0m\u001b[0;34m)\u001b[0m\u001b[0;34m:\u001b[0m\u001b[0;34m\u001b[0m\u001b[0;34m\u001b[0m\u001b[0m\n",
            "\u001b[0;32m/usr/local/lib/python3.7/dist-packages/pymysql/err.py\u001b[0m in \u001b[0;36mraise_mysql_exception\u001b[0;34m(data)\u001b[0m\n\u001b[1;32m    141\u001b[0m     \u001b[0;32mif\u001b[0m \u001b[0merrorclass\u001b[0m \u001b[0;32mis\u001b[0m \u001b[0;32mNone\u001b[0m\u001b[0;34m:\u001b[0m\u001b[0;34m\u001b[0m\u001b[0;34m\u001b[0m\u001b[0m\n\u001b[1;32m    142\u001b[0m         \u001b[0merrorclass\u001b[0m \u001b[0;34m=\u001b[0m \u001b[0mInternalError\u001b[0m \u001b[0;32mif\u001b[0m \u001b[0merrno\u001b[0m \u001b[0;34m<\u001b[0m \u001b[0;36m1000\u001b[0m \u001b[0;32melse\u001b[0m \u001b[0mOperationalError\u001b[0m\u001b[0;34m\u001b[0m\u001b[0;34m\u001b[0m\u001b[0m\n\u001b[0;32m--> 143\u001b[0;31m     \u001b[0;32mraise\u001b[0m \u001b[0merrorclass\u001b[0m\u001b[0;34m(\u001b[0m\u001b[0merrno\u001b[0m\u001b[0;34m,\u001b[0m \u001b[0merrval\u001b[0m\u001b[0;34m)\u001b[0m\u001b[0;34m\u001b[0m\u001b[0;34m\u001b[0m\u001b[0m\n\u001b[0m",
            "\u001b[0;31mOperationalError\u001b[0m: (1054, \"Unknown column 'create_date' in 'field list'\")"
          ]
        }
      ]
    },
    {
      "cell_type": "code",
      "source": [
        "#可用input要使用者自行輸入，用dict在data裡順序可顛倒，VALUES裡有對應參數即可\n",
        "import pymysql\n",
        "\n",
        "link = pymysql.connect(\n",
        "    host = \"0.tcp.jp.ngrok.io\",\n",
        "    user = \"root\",\n",
        "    passwd = \"\",\n",
        "    db = \"ai2022-01\",\n",
        "    charset = \"utf8\",\n",
        "    port = 17064\n",
        ")\n",
        "\n",
        "cur = link.cursor()\n",
        "\n",
        "data = {\n",
        "    \"D\" : input(\"請輸入來源:\"),\n",
        "    \"A\" : input(\"請輸入標題:\"),\n",
        "    \"B\" : input(\"請輸入內容:\"),\n",
        "    \"C\" : input(\"請輸入日期:\"),\n",
        "    \n",
        "}\n",
        "cur.execute(\"INSERT INTO `news`(`title` , `description` , `create_date` , `source`) VALUES(%(A)s,%(B)s,%(C)s,%(D)s)\",data)\n",
        "link.commit()\n",
        "\n",
        "link.close()"
      ],
      "metadata": {
        "colab": {
          "base_uri": "https://localhost:8080/",
          "height": 416
        },
        "id": "o0F83bwmmREt",
        "outputId": "515ac4a9-d3e8-4947-a206-a62ad550cb01"
      },
      "execution_count": null,
      "outputs": [
        {
          "name": "stdout",
          "output_type": "stream",
          "text": [
            "請輸入來源:AA\n",
            "請輸入標題:AA\n",
            "請輸入內容:AA\n",
            "請輸入日期:2022-05-20\n"
          ]
        },
        {
          "output_type": "error",
          "ename": "OperationalError",
          "evalue": "ignored",
          "traceback": [
            "\u001b[0;31m---------------------------------------------------------------------------\u001b[0m",
            "\u001b[0;31mOperationalError\u001b[0m                          Traceback (most recent call last)",
            "\u001b[0;32m<ipython-input-4-fc89ca47cf6f>\u001b[0m in \u001b[0;36m<module>\u001b[0;34m()\u001b[0m\n\u001b[1;32m     20\u001b[0m \u001b[0;34m\u001b[0m\u001b[0m\n\u001b[1;32m     21\u001b[0m }\n\u001b[0;32m---> 22\u001b[0;31m \u001b[0mcur\u001b[0m\u001b[0;34m.\u001b[0m\u001b[0mexecute\u001b[0m\u001b[0;34m(\u001b[0m\u001b[0;34m\"INSERT INTO `news`(`title` , `description` , `create_date` , `source`) VALUES(%(A)s,%(B)s,%(C)s,%(D)s)\"\u001b[0m\u001b[0;34m,\u001b[0m\u001b[0mdata\u001b[0m\u001b[0;34m)\u001b[0m\u001b[0;34m\u001b[0m\u001b[0;34m\u001b[0m\u001b[0m\n\u001b[0m\u001b[1;32m     23\u001b[0m \u001b[0mlink\u001b[0m\u001b[0;34m.\u001b[0m\u001b[0mcommit\u001b[0m\u001b[0;34m(\u001b[0m\u001b[0;34m)\u001b[0m\u001b[0;34m\u001b[0m\u001b[0;34m\u001b[0m\u001b[0m\n\u001b[1;32m     24\u001b[0m \u001b[0;34m\u001b[0m\u001b[0m\n",
            "\u001b[0;32m/usr/local/lib/python3.7/dist-packages/pymysql/cursors.py\u001b[0m in \u001b[0;36mexecute\u001b[0;34m(self, query, args)\u001b[0m\n\u001b[1;32m    146\u001b[0m         \u001b[0mquery\u001b[0m \u001b[0;34m=\u001b[0m \u001b[0mself\u001b[0m\u001b[0;34m.\u001b[0m\u001b[0mmogrify\u001b[0m\u001b[0;34m(\u001b[0m\u001b[0mquery\u001b[0m\u001b[0;34m,\u001b[0m \u001b[0margs\u001b[0m\u001b[0;34m)\u001b[0m\u001b[0;34m\u001b[0m\u001b[0;34m\u001b[0m\u001b[0m\n\u001b[1;32m    147\u001b[0m \u001b[0;34m\u001b[0m\u001b[0m\n\u001b[0;32m--> 148\u001b[0;31m         \u001b[0mresult\u001b[0m \u001b[0;34m=\u001b[0m \u001b[0mself\u001b[0m\u001b[0;34m.\u001b[0m\u001b[0m_query\u001b[0m\u001b[0;34m(\u001b[0m\u001b[0mquery\u001b[0m\u001b[0;34m)\u001b[0m\u001b[0;34m\u001b[0m\u001b[0;34m\u001b[0m\u001b[0m\n\u001b[0m\u001b[1;32m    149\u001b[0m         \u001b[0mself\u001b[0m\u001b[0;34m.\u001b[0m\u001b[0m_executed\u001b[0m \u001b[0;34m=\u001b[0m \u001b[0mquery\u001b[0m\u001b[0;34m\u001b[0m\u001b[0;34m\u001b[0m\u001b[0m\n\u001b[1;32m    150\u001b[0m         \u001b[0;32mreturn\u001b[0m \u001b[0mresult\u001b[0m\u001b[0;34m\u001b[0m\u001b[0;34m\u001b[0m\u001b[0m\n",
            "\u001b[0;32m/usr/local/lib/python3.7/dist-packages/pymysql/cursors.py\u001b[0m in \u001b[0;36m_query\u001b[0;34m(self, q)\u001b[0m\n\u001b[1;32m    308\u001b[0m         \u001b[0mself\u001b[0m\u001b[0;34m.\u001b[0m\u001b[0m_last_executed\u001b[0m \u001b[0;34m=\u001b[0m \u001b[0mq\u001b[0m\u001b[0;34m\u001b[0m\u001b[0;34m\u001b[0m\u001b[0m\n\u001b[1;32m    309\u001b[0m         \u001b[0mself\u001b[0m\u001b[0;34m.\u001b[0m\u001b[0m_clear_result\u001b[0m\u001b[0;34m(\u001b[0m\u001b[0;34m)\u001b[0m\u001b[0;34m\u001b[0m\u001b[0;34m\u001b[0m\u001b[0m\n\u001b[0;32m--> 310\u001b[0;31m         \u001b[0mconn\u001b[0m\u001b[0;34m.\u001b[0m\u001b[0mquery\u001b[0m\u001b[0;34m(\u001b[0m\u001b[0mq\u001b[0m\u001b[0;34m)\u001b[0m\u001b[0;34m\u001b[0m\u001b[0;34m\u001b[0m\u001b[0m\n\u001b[0m\u001b[1;32m    311\u001b[0m         \u001b[0mself\u001b[0m\u001b[0;34m.\u001b[0m\u001b[0m_do_get_result\u001b[0m\u001b[0;34m(\u001b[0m\u001b[0;34m)\u001b[0m\u001b[0;34m\u001b[0m\u001b[0;34m\u001b[0m\u001b[0m\n\u001b[1;32m    312\u001b[0m         \u001b[0;32mreturn\u001b[0m \u001b[0mself\u001b[0m\u001b[0;34m.\u001b[0m\u001b[0mrowcount\u001b[0m\u001b[0;34m\u001b[0m\u001b[0;34m\u001b[0m\u001b[0m\n",
            "\u001b[0;32m/usr/local/lib/python3.7/dist-packages/pymysql/connections.py\u001b[0m in \u001b[0;36mquery\u001b[0;34m(self, sql, unbuffered)\u001b[0m\n\u001b[1;32m    546\u001b[0m             \u001b[0msql\u001b[0m \u001b[0;34m=\u001b[0m \u001b[0msql\u001b[0m\u001b[0;34m.\u001b[0m\u001b[0mencode\u001b[0m\u001b[0;34m(\u001b[0m\u001b[0mself\u001b[0m\u001b[0;34m.\u001b[0m\u001b[0mencoding\u001b[0m\u001b[0;34m,\u001b[0m \u001b[0;34m\"surrogateescape\"\u001b[0m\u001b[0;34m)\u001b[0m\u001b[0;34m\u001b[0m\u001b[0;34m\u001b[0m\u001b[0m\n\u001b[1;32m    547\u001b[0m         \u001b[0mself\u001b[0m\u001b[0;34m.\u001b[0m\u001b[0m_execute_command\u001b[0m\u001b[0;34m(\u001b[0m\u001b[0mCOMMAND\u001b[0m\u001b[0;34m.\u001b[0m\u001b[0mCOM_QUERY\u001b[0m\u001b[0;34m,\u001b[0m \u001b[0msql\u001b[0m\u001b[0;34m)\u001b[0m\u001b[0;34m\u001b[0m\u001b[0;34m\u001b[0m\u001b[0m\n\u001b[0;32m--> 548\u001b[0;31m         \u001b[0mself\u001b[0m\u001b[0;34m.\u001b[0m\u001b[0m_affected_rows\u001b[0m \u001b[0;34m=\u001b[0m \u001b[0mself\u001b[0m\u001b[0;34m.\u001b[0m\u001b[0m_read_query_result\u001b[0m\u001b[0;34m(\u001b[0m\u001b[0munbuffered\u001b[0m\u001b[0;34m=\u001b[0m\u001b[0munbuffered\u001b[0m\u001b[0;34m)\u001b[0m\u001b[0;34m\u001b[0m\u001b[0;34m\u001b[0m\u001b[0m\n\u001b[0m\u001b[1;32m    549\u001b[0m         \u001b[0;32mreturn\u001b[0m \u001b[0mself\u001b[0m\u001b[0;34m.\u001b[0m\u001b[0m_affected_rows\u001b[0m\u001b[0;34m\u001b[0m\u001b[0;34m\u001b[0m\u001b[0m\n\u001b[1;32m    550\u001b[0m \u001b[0;34m\u001b[0m\u001b[0m\n",
            "\u001b[0;32m/usr/local/lib/python3.7/dist-packages/pymysql/connections.py\u001b[0m in \u001b[0;36m_read_query_result\u001b[0;34m(self, unbuffered)\u001b[0m\n\u001b[1;32m    773\u001b[0m         \u001b[0;32melse\u001b[0m\u001b[0;34m:\u001b[0m\u001b[0;34m\u001b[0m\u001b[0;34m\u001b[0m\u001b[0m\n\u001b[1;32m    774\u001b[0m             \u001b[0mresult\u001b[0m \u001b[0;34m=\u001b[0m \u001b[0mMySQLResult\u001b[0m\u001b[0;34m(\u001b[0m\u001b[0mself\u001b[0m\u001b[0;34m)\u001b[0m\u001b[0;34m\u001b[0m\u001b[0;34m\u001b[0m\u001b[0m\n\u001b[0;32m--> 775\u001b[0;31m             \u001b[0mresult\u001b[0m\u001b[0;34m.\u001b[0m\u001b[0mread\u001b[0m\u001b[0;34m(\u001b[0m\u001b[0;34m)\u001b[0m\u001b[0;34m\u001b[0m\u001b[0;34m\u001b[0m\u001b[0m\n\u001b[0m\u001b[1;32m    776\u001b[0m         \u001b[0mself\u001b[0m\u001b[0;34m.\u001b[0m\u001b[0m_result\u001b[0m \u001b[0;34m=\u001b[0m \u001b[0mresult\u001b[0m\u001b[0;34m\u001b[0m\u001b[0;34m\u001b[0m\u001b[0m\n\u001b[1;32m    777\u001b[0m         \u001b[0;32mif\u001b[0m \u001b[0mresult\u001b[0m\u001b[0;34m.\u001b[0m\u001b[0mserver_status\u001b[0m \u001b[0;32mis\u001b[0m \u001b[0;32mnot\u001b[0m \u001b[0;32mNone\u001b[0m\u001b[0;34m:\u001b[0m\u001b[0;34m\u001b[0m\u001b[0;34m\u001b[0m\u001b[0m\n",
            "\u001b[0;32m/usr/local/lib/python3.7/dist-packages/pymysql/connections.py\u001b[0m in \u001b[0;36mread\u001b[0;34m(self)\u001b[0m\n\u001b[1;32m   1154\u001b[0m     \u001b[0;32mdef\u001b[0m \u001b[0mread\u001b[0m\u001b[0;34m(\u001b[0m\u001b[0mself\u001b[0m\u001b[0;34m)\u001b[0m\u001b[0;34m:\u001b[0m\u001b[0;34m\u001b[0m\u001b[0;34m\u001b[0m\u001b[0m\n\u001b[1;32m   1155\u001b[0m         \u001b[0;32mtry\u001b[0m\u001b[0;34m:\u001b[0m\u001b[0;34m\u001b[0m\u001b[0;34m\u001b[0m\u001b[0m\n\u001b[0;32m-> 1156\u001b[0;31m             \u001b[0mfirst_packet\u001b[0m \u001b[0;34m=\u001b[0m \u001b[0mself\u001b[0m\u001b[0;34m.\u001b[0m\u001b[0mconnection\u001b[0m\u001b[0;34m.\u001b[0m\u001b[0m_read_packet\u001b[0m\u001b[0;34m(\u001b[0m\u001b[0;34m)\u001b[0m\u001b[0;34m\u001b[0m\u001b[0;34m\u001b[0m\u001b[0m\n\u001b[0m\u001b[1;32m   1157\u001b[0m \u001b[0;34m\u001b[0m\u001b[0m\n\u001b[1;32m   1158\u001b[0m             \u001b[0;32mif\u001b[0m \u001b[0mfirst_packet\u001b[0m\u001b[0;34m.\u001b[0m\u001b[0mis_ok_packet\u001b[0m\u001b[0;34m(\u001b[0m\u001b[0;34m)\u001b[0m\u001b[0;34m:\u001b[0m\u001b[0;34m\u001b[0m\u001b[0;34m\u001b[0m\u001b[0m\n",
            "\u001b[0;32m/usr/local/lib/python3.7/dist-packages/pymysql/connections.py\u001b[0m in \u001b[0;36m_read_packet\u001b[0;34m(self, packet_type)\u001b[0m\n\u001b[1;32m    723\u001b[0m             \u001b[0;32mif\u001b[0m \u001b[0mself\u001b[0m\u001b[0;34m.\u001b[0m\u001b[0m_result\u001b[0m \u001b[0;32mis\u001b[0m \u001b[0;32mnot\u001b[0m \u001b[0;32mNone\u001b[0m \u001b[0;32mand\u001b[0m \u001b[0mself\u001b[0m\u001b[0;34m.\u001b[0m\u001b[0m_result\u001b[0m\u001b[0;34m.\u001b[0m\u001b[0munbuffered_active\u001b[0m \u001b[0;32mis\u001b[0m \u001b[0;32mTrue\u001b[0m\u001b[0;34m:\u001b[0m\u001b[0;34m\u001b[0m\u001b[0;34m\u001b[0m\u001b[0m\n\u001b[1;32m    724\u001b[0m                 \u001b[0mself\u001b[0m\u001b[0;34m.\u001b[0m\u001b[0m_result\u001b[0m\u001b[0;34m.\u001b[0m\u001b[0munbuffered_active\u001b[0m \u001b[0;34m=\u001b[0m \u001b[0;32mFalse\u001b[0m\u001b[0;34m\u001b[0m\u001b[0;34m\u001b[0m\u001b[0m\n\u001b[0;32m--> 725\u001b[0;31m             \u001b[0mpacket\u001b[0m\u001b[0;34m.\u001b[0m\u001b[0mraise_for_error\u001b[0m\u001b[0;34m(\u001b[0m\u001b[0;34m)\u001b[0m\u001b[0;34m\u001b[0m\u001b[0;34m\u001b[0m\u001b[0m\n\u001b[0m\u001b[1;32m    726\u001b[0m         \u001b[0;32mreturn\u001b[0m \u001b[0mpacket\u001b[0m\u001b[0;34m\u001b[0m\u001b[0;34m\u001b[0m\u001b[0m\n\u001b[1;32m    727\u001b[0m \u001b[0;34m\u001b[0m\u001b[0m\n",
            "\u001b[0;32m/usr/local/lib/python3.7/dist-packages/pymysql/protocol.py\u001b[0m in \u001b[0;36mraise_for_error\u001b[0;34m(self)\u001b[0m\n\u001b[1;32m    219\u001b[0m         \u001b[0;32mif\u001b[0m \u001b[0mDEBUG\u001b[0m\u001b[0;34m:\u001b[0m\u001b[0;34m\u001b[0m\u001b[0;34m\u001b[0m\u001b[0m\n\u001b[1;32m    220\u001b[0m             \u001b[0mprint\u001b[0m\u001b[0;34m(\u001b[0m\u001b[0;34m\"errno =\"\u001b[0m\u001b[0;34m,\u001b[0m \u001b[0merrno\u001b[0m\u001b[0;34m)\u001b[0m\u001b[0;34m\u001b[0m\u001b[0;34m\u001b[0m\u001b[0m\n\u001b[0;32m--> 221\u001b[0;31m         \u001b[0merr\u001b[0m\u001b[0;34m.\u001b[0m\u001b[0mraise_mysql_exception\u001b[0m\u001b[0;34m(\u001b[0m\u001b[0mself\u001b[0m\u001b[0;34m.\u001b[0m\u001b[0m_data\u001b[0m\u001b[0;34m)\u001b[0m\u001b[0;34m\u001b[0m\u001b[0;34m\u001b[0m\u001b[0m\n\u001b[0m\u001b[1;32m    222\u001b[0m \u001b[0;34m\u001b[0m\u001b[0m\n\u001b[1;32m    223\u001b[0m     \u001b[0;32mdef\u001b[0m \u001b[0mdump\u001b[0m\u001b[0;34m(\u001b[0m\u001b[0mself\u001b[0m\u001b[0;34m)\u001b[0m\u001b[0;34m:\u001b[0m\u001b[0;34m\u001b[0m\u001b[0;34m\u001b[0m\u001b[0m\n",
            "\u001b[0;32m/usr/local/lib/python3.7/dist-packages/pymysql/err.py\u001b[0m in \u001b[0;36mraise_mysql_exception\u001b[0;34m(data)\u001b[0m\n\u001b[1;32m    141\u001b[0m     \u001b[0;32mif\u001b[0m \u001b[0merrorclass\u001b[0m \u001b[0;32mis\u001b[0m \u001b[0;32mNone\u001b[0m\u001b[0;34m:\u001b[0m\u001b[0;34m\u001b[0m\u001b[0;34m\u001b[0m\u001b[0m\n\u001b[1;32m    142\u001b[0m         \u001b[0merrorclass\u001b[0m \u001b[0;34m=\u001b[0m \u001b[0mInternalError\u001b[0m \u001b[0;32mif\u001b[0m \u001b[0merrno\u001b[0m \u001b[0;34m<\u001b[0m \u001b[0;36m1000\u001b[0m \u001b[0;32melse\u001b[0m \u001b[0mOperationalError\u001b[0m\u001b[0;34m\u001b[0m\u001b[0;34m\u001b[0m\u001b[0m\n\u001b[0;32m--> 143\u001b[0;31m     \u001b[0;32mraise\u001b[0m \u001b[0merrorclass\u001b[0m\u001b[0;34m(\u001b[0m\u001b[0merrno\u001b[0m\u001b[0;34m,\u001b[0m \u001b[0merrval\u001b[0m\u001b[0;34m)\u001b[0m\u001b[0;34m\u001b[0m\u001b[0;34m\u001b[0m\u001b[0m\n\u001b[0m",
            "\u001b[0;31mOperationalError\u001b[0m: (1054, \"Unknown column 'create_date' in 'field list'\")"
          ]
        }
      ]
    },
    {
      "cell_type": "code",
      "source": [
        "import pymysql\n",
        "\n",
        "link = pymysql.connect(\n",
        "    host = \"0.tcp.jp.ngrok.io\",\n",
        "    user = \"root\",\n",
        "    passwd = \"\",\n",
        "    db = \"ai2022-01\",\n",
        "    charset = \"utf8\",\n",
        "    port = 17064\n",
        ")\n",
        "\n",
        "cur=link.cursor()\n",
        "\n",
        "\n",
        "cur.execute(\"SELECT * FROM `news`\")\n",
        "# 取全部資料，指定第一和第二欄\n",
        "ret=cur.fetchall()\n",
        "for d in ret:\n",
        "  print(d[0],d[1])\n",
        "\n",
        "print(\"===========================\")\n",
        "cur.execute(\"SELECT * FROM `news`\")\n",
        "# 只取第一筆資料\n",
        "ret=cur.fetchone()\n",
        "print(ret[0],ret[1])\n",
        "\n",
        "ret=cur.fetchone()\n",
        "print(ret[0],ret[1])\n",
        "\n",
        "link.close()"
      ],
      "metadata": {
        "id": "p_tXRjdfo9Dx",
        "colab": {
          "base_uri": "https://localhost:8080/"
        },
        "outputId": "384ed036-e28c-4fe5-b04a-0bed7ba0ff8d"
      },
      "execution_count": null,
      "outputs": [
        {
          "output_type": "stream",
          "name": "stdout",
          "text": [
            "1 安杰物業突圍出擊 緯育TibaMe助陣打造物業黃埔軍校\n",
            "2 緯創旗下緯育 推數位轉型講座與規模化培訓課程\n",
            "3 疫情不必停學緯育TibaMe課程無縫轉線上｜ 蘋果新聞網｜ 蘋果 ...\n",
            "4 緯育TibaMe就業養成班和你疫起集氣+0\n",
            "5 緯創子公司緯育培訓班詢問度增| 聯合新聞網\n",
            "6 A\n",
            "===========================\n",
            "1 安杰物業突圍出擊 緯育TibaMe助陣打造物業黃埔軍校\n",
            "2 緯創旗下緯育 推數位轉型講座與規模化培訓課程\n"
          ]
        }
      ]
    },
    {
      "cell_type": "code",
      "source": [
        "import pymysql\n",
        "link=pymysql.connect(\n",
        "  host=\"0.tcp.jp.ngrok.io\",\n",
        "  user=\"root\",\n",
        "  passwd=\"\",\n",
        "  db=\"ai2022-01\",\n",
        "  charset=\"utf8\",\n",
        "  port=17064\n",
        ")\n",
        "cur=link.cursor()\n",
        "\n",
        "cur.execute(\"SELECT * FROM `news`\")\n",
        "# 總資料數量\n",
        "ret=cur.rowcount\n",
        "print(\"資料數量：\",ret)\n",
        "\n",
        "data={\n",
        "  \"b\":\"2222\",\n",
        "  \"c\":\"2022-05-19\",\n",
        "  \"a\":\"1111\",\n",
        "  \"d\":\"3333\"\n",
        "}\n",
        "cur.execute(\"INSERT INTO `news`(`title`,`description`,`create_date`,`source`) VALUES(%(a)s,%(b)s,%(c)s,%(d)s)\",data)\n",
        "link.commit()\n",
        "print(\"剛剛新增的那筆資料的ID：\",cur.lastrowid)\n",
        "\n",
        "link.close()"
      ],
      "metadata": {
        "colab": {
          "base_uri": "https://localhost:8080/"
        },
        "id": "Ij24xhwKouGa",
        "outputId": "9b2ad055-d857-412d-e3a3-df9d26c83079"
      },
      "execution_count": null,
      "outputs": [
        {
          "output_type": "stream",
          "name": "stdout",
          "text": [
            "資料數量： 6\n",
            "剛剛新增的那筆資料的ID： 7\n"
          ]
        }
      ]
    },
    {
      "cell_type": "code",
      "source": [
        "#作業\n",
        "import pymysql\n",
        "import prettytable\n",
        "import os\n",
        "\n",
        "link=pymysql.connect(\n",
        "  host = input(\"請輸入主機位置:\"),\n",
        "  user = input(\"請輸入資料庫帳號:\"),\n",
        "  passwd = input(\"請輸入資料庫密碼:\"),\n",
        "  port = int(input(\"請輸入資料庫的Port:\")),\n",
        "  db = input(\"請輸入資料庫的名稱:\"),\n",
        "  charset = \"utf8\"\n",
        ")\n",
        "\n",
        "cur=link.cursor()  \n",
        "while True:\n",
        "  print(\"\"\"(0) 離開程式\n",
        "(1) 顯示會員列表\n",
        "(2) 新增會員資料\n",
        "(3) 更新會員資料\n",
        "(4) 刪除會員資料\n",
        "  \"\"\")\n",
        "  order = int(input(\"指令:\"))\n",
        "  if order == 1:\n",
        "    cur.execute(\"SELECT * FROM `member`\")\n",
        "    ret = cur.fetchall()\n",
        "    p1 = prettytable.PrettyTable([\"編號\",\"姓名\",\"生日\",\"地址\"], encoding = \"utf-8\")\n",
        "    p1.align = \"l\"\n",
        "    for dd in ret:\n",
        "      p1.add_row([dd[0],dd[1],dd[2],dd[3]])\n",
        "    print(p1)\n",
        "  elif order == 2:\n",
        "    data = {\n",
        "        \"A\" : input(\"請輸入會員姓名:\"),\n",
        "        \"B\" : input(\"請輸入會員生日:\"),\n",
        "        \"C\" : input(\"請輸入會員地址:\"),      \n",
        "    }\n",
        "    cur.execute(\"INSERT INTO `member`(`name` , `birthday` , `address`) VALUES(%(A)s,%(B)s,%(C)s)\", data)\n",
        "    link.commit()\n",
        "  elif order == 3:\n",
        "    cur.execute(\"SELECT * FROM `member`\")\n",
        "    ret = cur.fetchall()\n",
        "    p1 = prettytable.PrettyTable([\"編號\",\"姓名\",\"生日\",\"地址\"], encoding = \"utf-8\")\n",
        "    p1.align = \"l\"\n",
        "    for dd in ret:\n",
        "      p1.add_row([dd[0],dd[1],dd[2],dd[3]])\n",
        "    print(p1)\n",
        "\n",
        "    data = {\n",
        "        \"D\" : input(\"請選擇你要修改的資料編號:\"),\n",
        "        \"A\" : input(\"請輸入會員姓名:\"),\n",
        "        \"B\" : input(\"請輸入會員生日:\"),\n",
        "        \"C\" : input(\"請輸入會員地址:\"),     \n",
        "    }\n",
        "    cur.execute(\"UPDATE `member` SET `name` = %(A)s, `birthday` = %(B)s, `address` = %(C)s WHERE `id` = %(D)s\", data)\n",
        "    link.commit()\n",
        "  elif order == 4:\n",
        "    cur.execute(\"SELECT * FROM `member`\")\n",
        "    ret = cur.fetchall()\n",
        "    p1 = prettytable.PrettyTable([\"編號\",\"姓名\",\"生日\",\"地址\"], encoding = \"utf-8\")\n",
        "    p1.align = \"l\"\n",
        "    for dd in ret:\n",
        "      p1.add_row([dd[0],dd[1],dd[2],dd[3]])\n",
        "    print(p1)\n",
        "    data = {\n",
        "        \"A\" : input(\"請選擇你要刪除的資料編號:\"),      \n",
        "    }\n",
        "    cur.execute(\"DELETE FROM `member` WHERE `id` = %(A)s\", data)\n",
        "    link.commit()\n",
        "  else:\n",
        "    break2\n",
        "\n",
        "link.close()"
      ],
      "metadata": {
        "colab": {
          "base_uri": "https://localhost:8080/"
        },
        "id": "1zu7E8gepR-8",
        "outputId": "5b314beb-c277-4944-fef5-cebcf3039f1d"
      },
      "execution_count": null,
      "outputs": [
        {
          "name": "stdout",
          "output_type": "stream",
          "text": [
            "請輸入主機位置:0.tcp.jp.ngrok.io\n",
            "請輸入資料庫帳號:root\n",
            "請輸入資料庫密碼:\n",
            "請輸入資料庫的Port:11994\n",
            "請輸入資料庫的名稱:ai2022-01\n",
            "(0) 離開程式\n",
            "(1) 顯示會員列表\n",
            "(2) 新增會員資料\n",
            "(3) 更新會員資料\n",
            "(4) 刪除會員資料\n",
            "  \n",
            "指令:1\n",
            "+------+--------+------------+--------------+\n",
            "| 編號 | 姓名   | 生日       | 地址         |\n",
            "+------+--------+------------+--------------+\n",
            "| 1    | 陳文在 | 1993-11-01 | 台北市中山區 |\n",
            "| 2    | 蕭宇殷 | 1990-05-22 | 新北市板橋區 |\n",
            "| 3    | 藍天晴 | 1997-02-10 | 桃園市中壢區 |\n",
            "| 4    | 林致世 | 1992-10-10 | 新竹縣竹東鎮 |\n",
            "| 5    | 呂來來 | 1997-03-01 | 新北市萬里區 |\n",
            "| 10   | 蔡杉智 | 1993-07-05 | 台北市大安區 |\n",
            "| 11   | 姚文武 | 1995-07-11 | 台北市北投區 |\n",
            "| 12   | 關自如 | 1996-10-21 | 新北市永和區 |\n",
            "| 20   | 周怡敏 | 1988-12-11 | 新北市三重區 |\n",
            "| 21   | 白依依 | 1985-01-05 | 新北市新店區 |\n",
            "| 22   | 鄭芷茵 | 1993-02-10 | 新北市林口區 |\n",
            "+------+--------+------------+--------------+\n",
            "(0) 離開程式\n",
            "(1) 顯示會員列表\n",
            "(2) 新增會員資料\n",
            "(3) 更新會員資料\n",
            "(4) 刪除會員資料\n",
            "  \n",
            "指令:2\n",
            "請輸入會員姓名:111\n",
            "請輸入會員生日:111\n",
            "請輸入會員地址:111\n",
            "(0) 離開程式\n",
            "(1) 顯示會員列表\n",
            "(2) 新增會員資料\n",
            "(3) 更新會員資料\n",
            "(4) 刪除會員資料\n",
            "  \n",
            "指令:1\n",
            "+------+--------+------------+--------------+\n",
            "| 編號 | 姓名   | 生日       | 地址         |\n",
            "+------+--------+------------+--------------+\n",
            "| 1    | 陳文在 | 1993-11-01 | 台北市中山區 |\n",
            "| 2    | 蕭宇殷 | 1990-05-22 | 新北市板橋區 |\n",
            "| 3    | 藍天晴 | 1997-02-10 | 桃園市中壢區 |\n",
            "| 4    | 林致世 | 1992-10-10 | 新竹縣竹東鎮 |\n",
            "| 5    | 呂來來 | 1997-03-01 | 新北市萬里區 |\n",
            "| 10   | 蔡杉智 | 1993-07-05 | 台北市大安區 |\n",
            "| 11   | 姚文武 | 1995-07-11 | 台北市北投區 |\n",
            "| 12   | 關自如 | 1996-10-21 | 新北市永和區 |\n",
            "| 20   | 周怡敏 | 1988-12-11 | 新北市三重區 |\n",
            "| 21   | 白依依 | 1985-01-05 | 新北市新店區 |\n",
            "| 22   | 鄭芷茵 | 1993-02-10 | 新北市林口區 |\n",
            "| 35   | 111    | 0000-00-00 | 111          |\n",
            "+------+--------+------------+--------------+\n",
            "(0) 離開程式\n",
            "(1) 顯示會員列表\n",
            "(2) 新增會員資料\n",
            "(3) 更新會員資料\n",
            "(4) 刪除會員資料\n",
            "  \n",
            "指令:3\n",
            "+------+--------+------------+--------------+\n",
            "| 編號 | 姓名   | 生日       | 地址         |\n",
            "+------+--------+------------+--------------+\n",
            "| 1    | 陳文在 | 1993-11-01 | 台北市中山區 |\n",
            "| 2    | 蕭宇殷 | 1990-05-22 | 新北市板橋區 |\n",
            "| 3    | 藍天晴 | 1997-02-10 | 桃園市中壢區 |\n",
            "| 4    | 林致世 | 1992-10-10 | 新竹縣竹東鎮 |\n",
            "| 5    | 呂來來 | 1997-03-01 | 新北市萬里區 |\n",
            "| 10   | 蔡杉智 | 1993-07-05 | 台北市大安區 |\n",
            "| 11   | 姚文武 | 1995-07-11 | 台北市北投區 |\n",
            "| 12   | 關自如 | 1996-10-21 | 新北市永和區 |\n",
            "| 20   | 周怡敏 | 1988-12-11 | 新北市三重區 |\n",
            "| 21   | 白依依 | 1985-01-05 | 新北市新店區 |\n",
            "| 22   | 鄭芷茵 | 1993-02-10 | 新北市林口區 |\n",
            "| 35   | 111    | 0000-00-00 | 111          |\n",
            "+------+--------+------------+--------------+\n",
            "請選擇你要修改的資料編號:35\n",
            "請輸入會員姓名:222\n",
            "請輸入會員生日:222\n",
            "請輸入會員地址:22\n",
            "(0) 離開程式\n",
            "(1) 顯示會員列表\n",
            "(2) 新增會員資料\n",
            "(3) 更新會員資料\n",
            "(4) 刪除會員資料\n",
            "  \n",
            "指令:4\n",
            "+------+--------+------------+--------------+\n",
            "| 編號 | 姓名   | 生日       | 地址         |\n",
            "+------+--------+------------+--------------+\n",
            "| 1    | 陳文在 | 1993-11-01 | 台北市中山區 |\n",
            "| 2    | 蕭宇殷 | 1990-05-22 | 新北市板橋區 |\n",
            "| 3    | 藍天晴 | 1997-02-10 | 桃園市中壢區 |\n",
            "| 4    | 林致世 | 1992-10-10 | 新竹縣竹東鎮 |\n",
            "| 5    | 呂來來 | 1997-03-01 | 新北市萬里區 |\n",
            "| 10   | 蔡杉智 | 1993-07-05 | 台北市大安區 |\n",
            "| 11   | 姚文武 | 1995-07-11 | 台北市北投區 |\n",
            "| 12   | 關自如 | 1996-10-21 | 新北市永和區 |\n",
            "| 20   | 周怡敏 | 1988-12-11 | 新北市三重區 |\n",
            "| 21   | 白依依 | 1985-01-05 | 新北市新店區 |\n",
            "| 22   | 鄭芷茵 | 1993-02-10 | 新北市林口區 |\n",
            "| 35   | 222    | 0000-00-00 | 22           |\n",
            "+------+--------+------------+--------------+\n",
            "請選擇你要刪除的資料編號:35\n",
            "(0) 離開程式\n",
            "(1) 顯示會員列表\n",
            "(2) 新增會員資料\n",
            "(3) 更新會員資料\n",
            "(4) 刪除會員資料\n",
            "  \n",
            "指令:1\n",
            "+------+--------+------------+--------------+\n",
            "| 編號 | 姓名   | 生日       | 地址         |\n",
            "+------+--------+------------+--------------+\n",
            "| 1    | 陳文在 | 1993-11-01 | 台北市中山區 |\n",
            "| 2    | 蕭宇殷 | 1990-05-22 | 新北市板橋區 |\n",
            "| 3    | 藍天晴 | 1997-02-10 | 桃園市中壢區 |\n",
            "| 4    | 林致世 | 1992-10-10 | 新竹縣竹東鎮 |\n",
            "| 5    | 呂來來 | 1997-03-01 | 新北市萬里區 |\n",
            "| 10   | 蔡杉智 | 1993-07-05 | 台北市大安區 |\n",
            "| 11   | 姚文武 | 1995-07-11 | 台北市北投區 |\n",
            "| 12   | 關自如 | 1996-10-21 | 新北市永和區 |\n",
            "| 20   | 周怡敏 | 1988-12-11 | 新北市三重區 |\n",
            "| 21   | 白依依 | 1985-01-05 | 新北市新店區 |\n",
            "| 22   | 鄭芷茵 | 1993-02-10 | 新北市林口區 |\n",
            "+------+--------+------------+--------------+\n",
            "(0) 離開程式\n",
            "(1) 顯示會員列表\n",
            "(2) 新增會員資料\n",
            "(3) 更新會員資料\n",
            "(4) 刪除會員資料\n",
            "  \n",
            "指令:0\n"
          ]
        }
      ]
    }
  ]
}