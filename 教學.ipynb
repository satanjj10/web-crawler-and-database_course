{
  "nbformat": 4,
  "nbformat_minor": 0,
  "metadata": {
    "colab": {
      "name": "教學.ipynb",
      "provenance": [],
      "authorship_tag": "ABX9TyPGvKzi6+237+fMzo2nUJq9",
      "include_colab_link": true
    },
    "kernelspec": {
      "name": "python3",
      "display_name": "Python 3"
    },
    "language_info": {
      "name": "python"
    }
  },
  "cells": [
    {
      "cell_type": "markdown",
      "metadata": {
        "id": "view-in-github",
        "colab_type": "text"
      },
      "source": [
        "<a href=\"https://colab.research.google.com/github/satanjj10/web-crawler-and-database_course/blob/main/%E6%95%99%E5%AD%B8.ipynb\" target=\"_parent\"><img src=\"https://colab.research.google.com/assets/colab-badge.svg\" alt=\"Open In Colab\"/></a>"
      ]
    },
    {
      "cell_type": "code",
      "source": [
        "import requests"
      ],
      "metadata": {
        "id": "tWNyS6A6Llw9"
      },
      "execution_count": null,
      "outputs": []
    },
    {
      "cell_type": "code",
      "source": [
        "url = 'https://ecshweb.pchome.com.tw/search/v3.3/all/results?q=盒玩&page=1&sort=sale/dc'\n",
        "\n",
        "res = requests.get(url)\n",
        "\n",
        "print(res)"
      ],
      "metadata": {
        "colab": {
          "base_uri": "https://localhost:8080/"
        },
        "id": "LHXv3rCeL5r9",
        "outputId": "d179cc4f-f1a3-4a0c-c596-1bd334815305"
      },
      "execution_count": null,
      "outputs": [
        {
          "output_type": "stream",
          "name": "stdout",
          "text": [
            "<Response [200]>\n"
          ]
        }
      ]
    },
    {
      "cell_type": "code",
      "source": [
        "res_dict = res.json()"
      ],
      "metadata": {
        "id": "RpkOravbNeh4"
      },
      "execution_count": null,
      "outputs": []
    },
    {
      "cell_type": "code",
      "source": [
        "prods = res_dict['prods']\n",
        "\n",
        "p_list = []\n",
        "\n",
        "for prod in prods:\n",
        "  print(prod['name'], prod['price'])\n",
        "  p_list.append({'name': prod['name'], 'price': prod['price']})"
      ],
      "metadata": {
        "colab": {
          "base_uri": "https://localhost:8080/"
        },
        "id": "PO0gPLXEQEmv",
        "outputId": "d8f03838-399b-43c4-babc-da2fafd568cb"
      },
      "execution_count": null,
      "outputs": [
        {
          "output_type": "stream",
          "name": "stdout",
          "text": [
            "Skullpanda熊貓熱潮系列公仔盒玩(12入盒裝) 3960\n",
            "Molly茉莉女孩 X 大久保聯名系列公仔盒玩(12入盒裝) 4440\n",
            "【AOTTO】多功能磁吸撞色盒玩收藏收納箱 展示箱-3入(三色可選) 1180\n",
            "Skullpanda糖果怪物小鎮系列公仔盒玩(12入盒裝) 3960\n",
            "GARMMA LINE FRIENDS PONGPONG系列 盒玩公仔(一套6隻不重複) 1740\n",
            "RE-MENT精靈寶可夢盆景神奇寶貝球盆盒玩具P6全6種204772皮卡丘美麗花炎帝小磁怪 1899\n",
            "小甜豆超市2系列公仔盒玩(12入盒裝) 3360\n",
            "【AOTTO】多功能磁吸撞色盒玩收藏收納箱 展示箱-1入(三色可選) 590\n",
            "小甜豆秋葉原系列公仔盒玩(12入盒裝) 3195\n",
            "YUKI 進化論系列公仔盒玩(兩入隨機款) 560\n",
            "日貨盒玩 鬼滅之刃 WCF VOL.1 1380\n",
            "DC正義聯盟系列公仔盒玩(12入盒裝) 3360\n",
            "FLABJACKS奇思妙想小植物系列公仔盒玩(10入盒裝) 2671\n",
            "MAX LIMITED 鬼滅之刃 抱抱角色 玩偶收藏集 盒玩 6入一中盒 1899\n",
            "Re-ment 優勝！一個人的單身飯 盒玩 1中盒8入 代理 1599\n",
            "非人哉發呆哪吒海上尋寶系列公仔盒玩 (9入盒裝) 2823\n",
            "ZOE水果星球系列公仔盒玩(12入盒裝) 3360\n",
            "LABUBU海綿寶寶系列公仔盒玩(12入盒裝) 3778\n",
            "StayReal 鼠小小潮流系列公仔盒玩(12入盒裝) 3205\n",
            "Satyr Rory 潘神洛麗夏日系列公仔盒玩(單入隨機款) 267\n"
          ]
        }
      ]
    },
    {
      "cell_type": "code",
      "source": [
        "import pandas as pd\n",
        "\n",
        "pd.DataFrame(p_list)"
      ],
      "metadata": {
        "colab": {
          "base_uri": "https://localhost:8080/",
          "height": 538
        },
        "id": "O5pUJpJtVr9o",
        "outputId": "f9fb97e7-5a6d-4585-8312-5ecdc14b1eb7"
      },
      "execution_count": null,
      "outputs": [
        {
          "output_type": "execute_result",
          "data": {
            "text/plain": [
              "                                             name  price\n",
              "0                     Skullpanda熊貓熱潮系列公仔盒玩(12入盒裝)   3960\n",
              "1                  Molly茉莉女孩 X 大久保聯名系列公仔盒玩(12入盒裝)   4440\n",
              "2              【AOTTO】多功能磁吸撞色盒玩收藏收納箱 展示箱-3入(三色可選)   1180\n",
              "3                   Skullpanda糖果怪物小鎮系列公仔盒玩(12入盒裝)   3960\n",
              "4    GARMMA LINE FRIENDS PONGPONG系列 盒玩公仔(一套6隻不重複)   1740\n",
              "5   RE-MENT精靈寶可夢盆景神奇寶貝球盆盒玩具P6全6種204772皮卡丘美麗花炎帝小磁怪   1899\n",
              "6                             小甜豆超市2系列公仔盒玩(12入盒裝)   3360\n",
              "7              【AOTTO】多功能磁吸撞色盒玩收藏收納箱 展示箱-1入(三色可選)    590\n",
              "8                             小甜豆秋葉原系列公仔盒玩(12入盒裝)   3195\n",
              "9                           YUKI 進化論系列公仔盒玩(兩入隨機款)    560\n",
              "10                            日貨盒玩 鬼滅之刃 WCF VOL.1   1380\n",
              "11                            DC正義聯盟系列公仔盒玩(12入盒裝)   3360\n",
              "12                  FLABJACKS奇思妙想小植物系列公仔盒玩(10入盒裝)   2671\n",
              "13           MAX LIMITED 鬼滅之刃 抱抱角色 玩偶收藏集 盒玩 6入一中盒   1899\n",
              "14                 Re-ment 優勝！一個人的單身飯 盒玩 1中盒8入 代理   1599\n",
              "15                       非人哉發呆哪吒海上尋寶系列公仔盒玩 (9入盒裝)   2823\n",
              "16                           ZOE水果星球系列公仔盒玩(12入盒裝)   3360\n",
              "17                        LABUBU海綿寶寶系列公仔盒玩(12入盒裝)   3778\n",
              "18                    StayReal 鼠小小潮流系列公仔盒玩(12入盒裝)   3205\n",
              "19                 Satyr Rory 潘神洛麗夏日系列公仔盒玩(單入隨機款)    267"
            ],
            "text/html": [
              "\n",
              "  <div id=\"df-eca2f8cf-0d0a-4a93-9b57-f01f539e14a3\">\n",
              "    <div class=\"colab-df-container\">\n",
              "      <div>\n",
              "<style scoped>\n",
              "    .dataframe tbody tr th:only-of-type {\n",
              "        vertical-align: middle;\n",
              "    }\n",
              "\n",
              "    .dataframe tbody tr th {\n",
              "        vertical-align: top;\n",
              "    }\n",
              "\n",
              "    .dataframe thead th {\n",
              "        text-align: right;\n",
              "    }\n",
              "</style>\n",
              "<table border=\"1\" class=\"dataframe\">\n",
              "  <thead>\n",
              "    <tr style=\"text-align: right;\">\n",
              "      <th></th>\n",
              "      <th>name</th>\n",
              "      <th>price</th>\n",
              "    </tr>\n",
              "  </thead>\n",
              "  <tbody>\n",
              "    <tr>\n",
              "      <th>0</th>\n",
              "      <td>Skullpanda熊貓熱潮系列公仔盒玩(12入盒裝)</td>\n",
              "      <td>3960</td>\n",
              "    </tr>\n",
              "    <tr>\n",
              "      <th>1</th>\n",
              "      <td>Molly茉莉女孩 X 大久保聯名系列公仔盒玩(12入盒裝)</td>\n",
              "      <td>4440</td>\n",
              "    </tr>\n",
              "    <tr>\n",
              "      <th>2</th>\n",
              "      <td>【AOTTO】多功能磁吸撞色盒玩收藏收納箱 展示箱-3入(三色可選)</td>\n",
              "      <td>1180</td>\n",
              "    </tr>\n",
              "    <tr>\n",
              "      <th>3</th>\n",
              "      <td>Skullpanda糖果怪物小鎮系列公仔盒玩(12入盒裝)</td>\n",
              "      <td>3960</td>\n",
              "    </tr>\n",
              "    <tr>\n",
              "      <th>4</th>\n",
              "      <td>GARMMA LINE FRIENDS PONGPONG系列 盒玩公仔(一套6隻不重複)</td>\n",
              "      <td>1740</td>\n",
              "    </tr>\n",
              "    <tr>\n",
              "      <th>5</th>\n",
              "      <td>RE-MENT精靈寶可夢盆景神奇寶貝球盆盒玩具P6全6種204772皮卡丘美麗花炎帝小磁怪</td>\n",
              "      <td>1899</td>\n",
              "    </tr>\n",
              "    <tr>\n",
              "      <th>6</th>\n",
              "      <td>小甜豆超市2系列公仔盒玩(12入盒裝)</td>\n",
              "      <td>3360</td>\n",
              "    </tr>\n",
              "    <tr>\n",
              "      <th>7</th>\n",
              "      <td>【AOTTO】多功能磁吸撞色盒玩收藏收納箱 展示箱-1入(三色可選)</td>\n",
              "      <td>590</td>\n",
              "    </tr>\n",
              "    <tr>\n",
              "      <th>8</th>\n",
              "      <td>小甜豆秋葉原系列公仔盒玩(12入盒裝)</td>\n",
              "      <td>3195</td>\n",
              "    </tr>\n",
              "    <tr>\n",
              "      <th>9</th>\n",
              "      <td>YUKI 進化論系列公仔盒玩(兩入隨機款)</td>\n",
              "      <td>560</td>\n",
              "    </tr>\n",
              "    <tr>\n",
              "      <th>10</th>\n",
              "      <td>日貨盒玩 鬼滅之刃 WCF VOL.1</td>\n",
              "      <td>1380</td>\n",
              "    </tr>\n",
              "    <tr>\n",
              "      <th>11</th>\n",
              "      <td>DC正義聯盟系列公仔盒玩(12入盒裝)</td>\n",
              "      <td>3360</td>\n",
              "    </tr>\n",
              "    <tr>\n",
              "      <th>12</th>\n",
              "      <td>FLABJACKS奇思妙想小植物系列公仔盒玩(10入盒裝)</td>\n",
              "      <td>2671</td>\n",
              "    </tr>\n",
              "    <tr>\n",
              "      <th>13</th>\n",
              "      <td>MAX LIMITED 鬼滅之刃 抱抱角色 玩偶收藏集 盒玩 6入一中盒</td>\n",
              "      <td>1899</td>\n",
              "    </tr>\n",
              "    <tr>\n",
              "      <th>14</th>\n",
              "      <td>Re-ment 優勝！一個人的單身飯 盒玩 1中盒8入 代理</td>\n",
              "      <td>1599</td>\n",
              "    </tr>\n",
              "    <tr>\n",
              "      <th>15</th>\n",
              "      <td>非人哉發呆哪吒海上尋寶系列公仔盒玩 (9入盒裝)</td>\n",
              "      <td>2823</td>\n",
              "    </tr>\n",
              "    <tr>\n",
              "      <th>16</th>\n",
              "      <td>ZOE水果星球系列公仔盒玩(12入盒裝)</td>\n",
              "      <td>3360</td>\n",
              "    </tr>\n",
              "    <tr>\n",
              "      <th>17</th>\n",
              "      <td>LABUBU海綿寶寶系列公仔盒玩(12入盒裝)</td>\n",
              "      <td>3778</td>\n",
              "    </tr>\n",
              "    <tr>\n",
              "      <th>18</th>\n",
              "      <td>StayReal 鼠小小潮流系列公仔盒玩(12入盒裝)</td>\n",
              "      <td>3205</td>\n",
              "    </tr>\n",
              "    <tr>\n",
              "      <th>19</th>\n",
              "      <td>Satyr Rory 潘神洛麗夏日系列公仔盒玩(單入隨機款)</td>\n",
              "      <td>267</td>\n",
              "    </tr>\n",
              "  </tbody>\n",
              "</table>\n",
              "</div>\n",
              "      <button class=\"colab-df-convert\" onclick=\"convertToInteractive('df-eca2f8cf-0d0a-4a93-9b57-f01f539e14a3')\"\n",
              "              title=\"Convert this dataframe to an interactive table.\"\n",
              "              style=\"display:none;\">\n",
              "        \n",
              "  <svg xmlns=\"http://www.w3.org/2000/svg\" height=\"24px\"viewBox=\"0 0 24 24\"\n",
              "       width=\"24px\">\n",
              "    <path d=\"M0 0h24v24H0V0z\" fill=\"none\"/>\n",
              "    <path d=\"M18.56 5.44l.94 2.06.94-2.06 2.06-.94-2.06-.94-.94-2.06-.94 2.06-2.06.94zm-11 1L8.5 8.5l.94-2.06 2.06-.94-2.06-.94L8.5 2.5l-.94 2.06-2.06.94zm10 10l.94 2.06.94-2.06 2.06-.94-2.06-.94-.94-2.06-.94 2.06-2.06.94z\"/><path d=\"M17.41 7.96l-1.37-1.37c-.4-.4-.92-.59-1.43-.59-.52 0-1.04.2-1.43.59L10.3 9.45l-7.72 7.72c-.78.78-.78 2.05 0 2.83L4 21.41c.39.39.9.59 1.41.59.51 0 1.02-.2 1.41-.59l7.78-7.78 2.81-2.81c.8-.78.8-2.07 0-2.86zM5.41 20L4 18.59l7.72-7.72 1.47 1.35L5.41 20z\"/>\n",
              "  </svg>\n",
              "      </button>\n",
              "      \n",
              "  <style>\n",
              "    .colab-df-container {\n",
              "      display:flex;\n",
              "      flex-wrap:wrap;\n",
              "      gap: 12px;\n",
              "    }\n",
              "\n",
              "    .colab-df-convert {\n",
              "      background-color: #E8F0FE;\n",
              "      border: none;\n",
              "      border-radius: 50%;\n",
              "      cursor: pointer;\n",
              "      display: none;\n",
              "      fill: #1967D2;\n",
              "      height: 32px;\n",
              "      padding: 0 0 0 0;\n",
              "      width: 32px;\n",
              "    }\n",
              "\n",
              "    .colab-df-convert:hover {\n",
              "      background-color: #E2EBFA;\n",
              "      box-shadow: 0px 1px 2px rgba(60, 64, 67, 0.3), 0px 1px 3px 1px rgba(60, 64, 67, 0.15);\n",
              "      fill: #174EA6;\n",
              "    }\n",
              "\n",
              "    [theme=dark] .colab-df-convert {\n",
              "      background-color: #3B4455;\n",
              "      fill: #D2E3FC;\n",
              "    }\n",
              "\n",
              "    [theme=dark] .colab-df-convert:hover {\n",
              "      background-color: #434B5C;\n",
              "      box-shadow: 0px 1px 3px 1px rgba(0, 0, 0, 0.15);\n",
              "      filter: drop-shadow(0px 1px 2px rgba(0, 0, 0, 0.3));\n",
              "      fill: #FFFFFF;\n",
              "    }\n",
              "  </style>\n",
              "\n",
              "      <script>\n",
              "        const buttonEl =\n",
              "          document.querySelector('#df-eca2f8cf-0d0a-4a93-9b57-f01f539e14a3 button.colab-df-convert');\n",
              "        buttonEl.style.display =\n",
              "          google.colab.kernel.accessAllowed ? 'block' : 'none';\n",
              "\n",
              "        async function convertToInteractive(key) {\n",
              "          const element = document.querySelector('#df-eca2f8cf-0d0a-4a93-9b57-f01f539e14a3');\n",
              "          const dataTable =\n",
              "            await google.colab.kernel.invokeFunction('convertToInteractive',\n",
              "                                                     [key], {});\n",
              "          if (!dataTable) return;\n",
              "\n",
              "          const docLinkHtml = 'Like what you see? Visit the ' +\n",
              "            '<a target=\"_blank\" href=https://colab.research.google.com/notebooks/data_table.ipynb>data table notebook</a>'\n",
              "            + ' to learn more about interactive tables.';\n",
              "          element.innerHTML = '';\n",
              "          dataTable['output_type'] = 'display_data';\n",
              "          await google.colab.output.renderOutput(dataTable, element);\n",
              "          const docLink = document.createElement('div');\n",
              "          docLink.innerHTML = docLinkHtml;\n",
              "          element.appendChild(docLink);\n",
              "        }\n",
              "      </script>\n",
              "    </div>\n",
              "  </div>\n",
              "  "
            ]
          },
          "metadata": {},
          "execution_count": 23
        }
      ]
    }
  ]
}